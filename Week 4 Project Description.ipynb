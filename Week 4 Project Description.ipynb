{
 "cells": [
  {
   "cell_type": "markdown",
   "metadata": {},
   "source": [
    "## Hi, my name is Kevin Torres and I'm going to do a project about a Recommender System."
   ]
  },
  {
   "cell_type": "markdown",
   "metadata": {},
   "source": [
    "# Introduction/Business Problem."
   ]
  },
  {
   "cell_type": "markdown",
   "metadata": {},
   "source": [
    "#### The objective of this project is to search in each of the neighborhoods to see where restaurants, joints and places are mainly concentrated to analyze the possibilities of creating a warehouse where these establishments can be supplied."
   ]
  },
  {
   "cell_type": "markdown",
   "metadata": {},
   "source": [
    "# Data that we are going to use."
   ]
  },
  {
   "cell_type": "markdown",
   "metadata": {},
   "source": [
    "#### Basically, the data we need is geolocation information for a specific borough and neighborhoods.\n",
    "#### When searching on Google, we get the latitude and longitude of a borough located in Toronto.\n",
    "#### We will rely on part of the data we obtained in the previous weeks of this course.\n",
    "#### Once we get all this 'basic' data, we will use the 'Foursquare' API to see in each neighborhood place and venue to make a more accurate analysis."
   ]
  }
 ],
 "metadata": {
  "kernelspec": {
   "display_name": "Python 3",
   "language": "python",
   "name": "python3"
  },
  "language_info": {
   "codemirror_mode": {
    "name": "ipython",
    "version": 3
   },
   "file_extension": ".py",
   "mimetype": "text/x-python",
   "name": "python",
   "nbconvert_exporter": "python",
   "pygments_lexer": "ipython3",
   "version": "3.6.5"
  }
 },
 "nbformat": 4,
 "nbformat_minor": 2
}
