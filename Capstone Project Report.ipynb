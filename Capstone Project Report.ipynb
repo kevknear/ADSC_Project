{
 "cells": [
  {
   "cell_type": "markdown",
   "metadata": {},
   "source": [
    "## Hi, my name is Kevin Torres and I'm going to do a project about a Recommender System."
   ]
  },
  {
   "cell_type": "markdown",
   "metadata": {},
   "source": [
    "# Introduction/BusinessProblem."
   ]
  },
  {
   "cell_type": "markdown",
   "metadata": {},
   "source": [
    "#### The objective of this project is to search in each of the neighborhoods to see where restaurants, joints and places are mainly concentrated to analyze the possibilities of creating a warehouse where these establishments can be supplied."
   ]
  },
  {
   "cell_type": "markdown",
   "metadata": {},
   "source": [
    "# Data that we are going to use."
   ]
  },
  {
   "cell_type": "markdown",
   "metadata": {},
   "source": [
    "#### Basically, the data we need is geolocation information for a specific borough and neighborhoods.\n",
    "#### When searching on Google, we get the latitude and longitude of a borough located in Toronto.\n",
    "#### We will rely on part of the data we obtained in the previous weeks of this course.\n",
    "#### Once we get all this 'basic' data, we will use the 'Foursquare' API to see in each neighborhood place and venue to make a more accurate analysis."
   ]
  },
  {
   "cell_type": "markdown",
   "metadata": {},
   "source": [
    "# Get into the real problem"
   ]
  },
  {
   "cell_type": "markdown",
   "metadata": {},
   "source": [
    "## a) First\n",
    "## *Select our Borough and identify its neighbourhoods* "
   ]
  },
  {
   "cell_type": "markdown",
   "metadata": {},
   "source": [
    "#### Using the postal codes contained in the table obtained from Wikipedia (https://en.wikipedia.org/wiki/List_of_postal_codes_of_Canada:_M) we selected one of the boroughs to inspect their neighbourhoods. In this case we selected *North York*"
   ]
  },
  {
   "cell_type": "markdown",
   "metadata": {},
   "source": [
    "## b) Second\n",
    "## *Retrieving Data from 'Foursquare'*"
   ]
  },
  {
   "cell_type": "markdown",
   "metadata": {},
   "source": [
    "#### After getting a list of the neighborhoods in *North York*, we need to get access to the Foursquare API to retrieve information about each venue that is in *North York*. When delimiting the radius, we will look for information of venues located at 1000 meters from the center of the neighborhood."
   ]
  },
  {
   "cell_type": "markdown",
   "metadata": {},
   "source": [
    "## c) Third\n",
    "## Creating a DataFrame with pandas to store the processing data obtained from *Foursquare*"
   ]
  },
  {
   "cell_type": "markdown",
   "metadata": {},
   "source": [
    "#### To facilitate the analysis, it is important to compile our data in a form that gives us a better perspective of the information we have just obtained. Once we have done this, the next step is to select a group of features to help us integrate \"Restaurants\", \"Joints\" and \"Places\" in a single DataFrame.\n",
    "#### The reason to do all this, is to apply techniques like K-Means that helps us to select the best location."
   ]
  },
  {
   "cell_type": "markdown",
   "metadata": {},
   "source": [
    "## d) Fourth\n",
    "## Creating Clusters "
   ]
  },
  {
   "cell_type": "markdown",
   "metadata": {},
   "source": [
    "#### In this part of the project, we will use K-Means to make five groups of neighborhoods. Once we finish this, we now need to update our dataset to create a column where we can see which group corresponds to each neighborhood."
   ]
  },
  {
   "cell_type": "markdown",
   "metadata": {},
   "source": [
    "## e) Fifth\n",
    "## The final decision"
   ]
  },
  {
   "cell_type": "markdown",
   "metadata": {},
   "source": [
    "#### When inspecting the groups, we analyzed the results of *Total Restaurants*, *Total Joints* and *Total Places*. Then, the group where *Total Sum* is the highest, is the best group and so on for the following groups."
   ]
  },
  {
   "cell_type": "markdown",
   "metadata": {},
   "source": [
    "#### Based on our analysis, the best group is:"
   ]
  },
  {
   "cell_type": "markdown",
   "metadata": {},
   "source": [
    "## G5"
   ]
  },
  {
   "cell_type": "markdown",
   "metadata": {},
   "source": [
    "### and the best neighbourhood is:"
   ]
  },
  {
   "cell_type": "markdown",
   "metadata": {},
   "source": [
    "'Postal Code':               'M2J',\n",
    "\n",
    "'Neighborhood':              ***'Henry Farm'***,\n",
    "\n",
    "'Neighborhood Latitude':     43.7785175,\n",
    "\n",
    "'Neighborhood Longitude':    -79.3465557"
   ]
  },
  {
   "cell_type": "markdown",
   "metadata": {},
   "source": [
    "\n",
    "\n",
    "\n",
    "\n",
    "\n",
    "#### Thanks for watching my report"
   ]
  },
  {
   "cell_type": "markdown",
   "metadata": {},
   "source": [
    "*Kevin Torres V.*"
   ]
  }
 ],
 "metadata": {
  "kernelspec": {
   "display_name": "Python 3",
   "language": "python",
   "name": "python3"
  },
  "language_info": {
   "codemirror_mode": {
    "name": "ipython",
    "version": 3
   },
   "file_extension": ".py",
   "mimetype": "text/x-python",
   "name": "python",
   "nbconvert_exporter": "python",
   "pygments_lexer": "ipython3",
   "version": "3.6.5"
  }
 },
 "nbformat": 4,
 "nbformat_minor": 2
}
